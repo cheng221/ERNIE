{
 "cells": [
  {
   "cell_type": "markdown",
   "id": "a06626b1-8b12-4482-87be-149128f7fb52",
   "metadata": {},
   "source": [
    "# ERNIE DPO Best Practices"
   ]
  },
  {
   "cell_type": "markdown",
   "id": "426c7c9d",
   "metadata": {},
   "source": [
    "# 1 Introduction to DPO  \n",
    "### 1.1 What is DPO\n",
    "DPO (Direct Preference Optimization) is a method to optimize language models using human preference data, aiming to align model outputs more closely with human expectations. It bypasses the reward model training and reinforcement learning steps found in traditional RLHF (Reinforcement Learning from Human Feedback). The training data must include both positive examples (desired outputs) and negative examples (undesired outputs).\n",
    "\n",
    "### 1.2 Applicability of DPO\n",
    "- ✅ Applicable\n",
    "  - Behavioral alignment, aligning with human preferences and values. For example, making responses more friendly, polite, or safe;\n",
    "  - For open-ended questions with non-unique answers (such as content creation, summarization, or dialogue), enabling the model to learn more nuanced and popular ways of expression;\n",
    "  - Enforcing specific constraints or formats. For instance, encouraging the model to provide shorter responses.\n",
    "\n",
    "- ❌ Not Applicable\n",
    "  - Adding new internalized knowledge to the model;\n",
    "  - Forcing the model to acquire capabilities it does not possess;\n",
    "  - Fully correcting inherent biases in pre-trained models;\n",
    "  - Tasks with a single correct answer (such as strict mathematical calculations).\n",
    "\n",
    "### 1.3 General Steps for DPO\n",
    "1. Construct evaluation data and criteria, test the model's baseline capabilities, and analyze its shortcomings and issues.\n",
    "2. Conduct thorough prompt engineering.\n",
    "3. Determine if DPO is applicable; prepare training data.\n",
    "4. Train the model. Design training parameters based on task characteristics and data conditions. Key parameters to focus on include:\n",
    "    - Batch size\n",
    "    - Number of training epochs or maximum training steps\n",
    "    - Learning rate type and initial value\n",
    "    - Warm-up steps\n",
    "5. Evaluate the results. Use the same evaluation data and criteria to assess the model's performance after training. If the results are unsatisfactory, consider further optimizing the training data or adjusting the training parameters."
   ]
  },
  {
   "cell_type": "markdown",
   "id": "9bd37505",
   "metadata": {},
   "source": [
    "# 2 Best Practice Task Introduction\n",
    "### 2.1 Task Description\n",
    "We have observed that in some scenarios, the model's responses are quite lengthy. We aim to make the model's responses shorter and more concise.\n",
    "\n",
    "### 2.2 Data Source\n",
    "We use the DPO demo dataset provided by the popular open-source community project LlamaFactory ([link](https://huggingface.co/datasets/llamafactory/DPO-En-Zh-20k/tree/main)). This dataset contains 1,000 entries each in Chinese and English, formatted in ShareGPT style, with the following fields:\n",
    "- `conversations`: Dialogue context, in the format `[{\"from\": \"\", \"value\": \"\"}]`, where the `from` field includes:\n",
    "  - `system`: System prompt\n",
    "  - `human`: User input\n",
    "  - `gpt`: Model input (here, `gpt` is used to represent the large model dialogue assistant)\n",
    "- `chosen`: Positive example (desired output)\n",
    "- `rejected`: Negative example (undesired output)\n",
    "> In real-world scenarios, we typically construct better data based on the model's current output to form training samples. However, for the purpose of demonstrating the DPO process in this tutorial, we directly downloaded the open-source dataset.\n",
    "\n",
    "### 2.3 Evaluation Criteria\n",
    "We focus on the length of the output, so we can evaluate the model's performance using the mean and median of the string length.\n",
    "\n",
    "### 2.4 Experimental Environment\n",
    "This tutorial uses the following environment:\n",
    "- 1x 80GB A800 GPU\n",
    "- CUDA Version: 12.3\n",
    "- CUDA Driver: 525.125.06\n",
    "- nvcc: 12.3\n",
    "- gcc: 12.2\n",
    "- Python Version: 3.10.12\n",
    "\n",
    "### 2.5 Dependencies\n",
    "- **ERNIEKit**: A toolchain for ERNIE large models, covering the full process of training, compression, and inference for the ERNIE 4.5 series models. Based on PaddlePaddle framework v3.1, it supports training on various mainstream domestic chips.\n",
    "- **ERNIEKit WebUI**: A visual interface supporting training, dialogue interaction, performance evaluation, model export, and more. [Documentation](../../docs/cli_webui_usage.md)\n",
    "- **[Optional] visualdl**: A tool for visualizing loss and other metrics, already included in ERNIEKit.\n",
    "- **ERNIEKit inference scripts**.\n",
    "- **Python dependencies** used in this tutorial."
   ]
  },
  {
   "cell_type": "code",
   "execution_count": 1,
   "id": "91ab45af",
   "metadata": {},
   "outputs": [],
   "source": [
    "# The Python dependencies\n",
    "import json\n",
    "import random\n",
    "from collections import defaultdict\n",
    "\n",
    "import matplotlib.pyplot as plt\n",
    "import pandas as pd\n",
    "import seaborn as sns\n",
    "\n",
    "RANDOM_SEED = 2025"
   ]
  },
  {
   "cell_type": "markdown",
   "id": "6a6d8592",
   "metadata": {},
   "source": [
    "# 3 Data Preprocessing"
   ]
  },
  {
   "cell_type": "markdown",
   "id": "0612a29c",
   "metadata": {},
   "source": [
    "### 3.1 Preparing Raw Data\n",
    "First, download the open-source dataset and save it to `cookbook/data/llamafactory_dpo_en_10k.json`.  \n",
    "\n",
    "![dpo_download_dataset_en](https://raw.githubusercontent.com/wiki/Minghao2812/ERNIE/img/dpo_download_dataset_en.png)"
   ]
  },
  {
   "cell_type": "markdown",
   "id": "9752ae46",
   "metadata": {},
   "source": [
    "To facilitate processing, we convert the ShareGPT format to the ERNIE DPO format here. We have defined several data preprocessing functions for this purpose."
   ]
  },
  {
   "cell_type": "code",
   "execution_count": 2,
   "id": "ea18004a",
   "metadata": {},
   "outputs": [],
   "source": [
    "def conversations_to_ernie_data(conversations):\n",
    "    system = \"\"\n",
    "    src = []\n",
    "    tgt = []\n",
    "    for conversation in conversations:\n",
    "        if conversation.get(\"from\", \"\") == \"system\":\n",
    "            system = conversation.get(\"value\", \"\")\n",
    "        elif conversation.get(\"from\", \"\") == \"human\":\n",
    "            src.append(conversation.get(\"value\", \"\"))\n",
    "        elif conversation.get(\"from\", \"\") == \"gpt\":\n",
    "            tgt.append(conversation.get(\"value\", \"\"))\n",
    "    return system, src, tgt\n",
    "\n",
    "\n",
    "def is_valid_ernie_data(data):\n",
    "    if len(data[\"src\"]) == 0:\n",
    "        return False\n",
    "    if len(data[\"response\"][0]) == 0 or len(data[\"response\"][1]) == 0:\n",
    "        return False\n",
    "    return True"
   ]
  },
  {
   "cell_type": "markdown",
   "id": "6be94810",
   "metadata": {},
   "source": [
    "Call the above functions to process the data."
   ]
  },
  {
   "cell_type": "code",
   "execution_count": 3,
   "id": "94660786",
   "metadata": {},
   "outputs": [],
   "source": [
    "raw_data_path = \"../data/llamafactory_dpo_en_10k.json\"\n",
    "ernie_data_path = raw_data_path.replace(\".json\", \"_ernie_format.jsonl\")\n",
    "\n",
    "with open(raw_data_path, \"r\") as fin:\n",
    "    with open(ernie_data_path, \"w\") as fout:\n",
    "        data_list = json.load(fin)\n",
    "        for data in data_list:\n",
    "            system, src, tgt = conversations_to_ernie_data(data.get(\"conversations\", []))\n",
    "            chosen = data.get(\"chosen\", {}).get(\"value\", \"\")\n",
    "            rejected = data.get(\"rejected\", {}).get(\"value\", \"\")\n",
    "            ernie_data = {\n",
    "                \"system\": system,\n",
    "                \"src\": src,\n",
    "                \"tgt\": tgt,\n",
    "                \"response\": [[chosen], [rejected]],\n",
    "                \"sort\": [1, 0],\n",
    "            }  # The smaller value in 'sort' represents 'rejected', while the larger value represents 'chosen'\n",
    "            if is_valid_ernie_data(ernie_data):\n",
    "                fout.write(json.dumps(ernie_data, ensure_ascii=False) + \"\\n\")"
   ]
  },
  {
   "cell_type": "markdown",
   "id": "03201de0",
   "metadata": {},
   "source": [
    "### 3.2 Analyzing Raw Data\n",
    "Observe the length distribution of `chosen` and `rejected` in the dataset, then construct the test set and training set accordingly."
   ]
  },
  {
   "cell_type": "code",
   "execution_count": 4,
   "id": "62eedc9a",
   "metadata": {},
   "outputs": [],
   "source": [
    "chosen_len_cnt = defaultdict(int)\n",
    "rejected_len_cnt = defaultdict(int)\n",
    "\n",
    "with open(ernie_data_path, \"r\") as fin:\n",
    "    for line in fin:\n",
    "        data = json.loads(line)\n",
    "        chosen_len = len(data[\"response\"][0][0])\n",
    "        rejected_len = len(data[\"response\"][1][0])\n",
    "        chosen_len_cnt[chosen_len] = chosen_len_cnt.get(chosen_len, 0) + 1\n",
    "        rejected_len_cnt[rejected_len] = rejected_len_cnt.get(rejected_len, 0) + 1"
   ]
  },
  {
   "cell_type": "markdown",
   "id": "8f0719d6",
   "metadata": {},
   "source": [
    "Perform a simple visualization analysis."
   ]
  },
  {
   "cell_type": "code",
   "execution_count": 5,
   "id": "944b5348",
   "metadata": {},
   "outputs": [
    {
     "data": {
      "image/png": "[encoded data removed]",
      "text/plain": [
       "<Figure size 1500x600 with 2 Axes>"
      ]
     },
     "metadata": {},
     "output_type": "display_data"
    },
    {
     "name": "stdout",
     "output_type": "stream",
     "text": [
      "Chosen responses - Mean length: 1447.0, Median length: 1371.5\n",
      "Rejected responses - Mean length: 1468.3, Median length: 1355.5\n",
      "Total chosen responses: 9998\n",
      "Total rejected responses: 9998\n"
     ]
    }
   ],
   "source": [
    "# Set the plotting style\n",
    "plt.style.use('seaborn-v0_8')\n",
    "sns.set_palette(\"husl\")\n",
    "\n",
    "# Use two side-by-side subplots\n",
    "fig, (ax1, ax2) = plt.subplots(1, 2, figsize=(15, 6))\n",
    "\n",
    "# Plot the distribution of chosen response lengths\n",
    "chosen_lengths = list(chosen_len_cnt.keys())\n",
    "chosen_counts = list(chosen_len_cnt.values())\n",
    "\n",
    "ax1.hist(chosen_lengths, weights=chosen_counts, bins=50, alpha=0.7, color='skyblue', edgecolor='black')\n",
    "ax1.set_title('Distribution of Chosen Response Lengths', fontsize=14, fontweight='bold')\n",
    "ax1.set_xlabel('Response Length (characters)', fontsize=12)\n",
    "ax1.set_ylabel('Frequency', fontsize=12)\n",
    "ax1.grid(True, alpha=0.3)\n",
    "\n",
    "# Plot the distribution of rejected response lengths\n",
    "rejected_lengths = list(rejected_len_cnt.keys())\n",
    "rejected_counts = list(rejected_len_cnt.values())\n",
    "\n",
    "ax2.hist(rejected_lengths, weights=rejected_counts, bins=50, alpha=0.7, color='lightcoral', edgecolor='black')\n",
    "ax2.set_title('Distribution of Rejected Response Lengths', fontsize=14, fontweight='bold')\n",
    "ax2.set_xlabel('Response Length (characters)', fontsize=12)\n",
    "ax2.set_ylabel('Frequency', fontsize=12)\n",
    "ax2.grid(True, alpha=0.3)\n",
    "\n",
    "plt.tight_layout()\n",
    "plt.show()\n",
    "\n",
    "# Use pandas Series to directly calculate statistics\n",
    "chosen_series = pd.Series([length for length, count in chosen_len_cnt.items() for _ in range(count)])\n",
    "rejected_series = pd.Series([length for length, count in rejected_len_cnt.items() for _ in range(count)])\n",
    "\n",
    "# Display statistical information\n",
    "print(f\"Chosen responses - Mean length: {chosen_series.mean():.1f}, Median length: {chosen_series.median():.1f}\")\n",
    "print(f\"Rejected responses - Mean length: {rejected_series.mean():.1f}, Median length: {rejected_series.median():.1f}\")\n",
    "print(f\"Total chosen responses: {len(chosen_series)}\")\n",
    "print(f\"Total rejected responses: {len(rejected_series)}\")"
   ]
  },
  {
   "cell_type": "markdown",
   "id": "40f3cbe1",
   "metadata": {},
   "source": [
    "### 3.3 Evaluating Model Baseline Capabilities\n",
    "Define evaluation criteria."
   ]
  },
  {
   "cell_type": "code",
   "execution_count": 11,
   "id": "eebe9a3b",
   "metadata": {},
   "outputs": [],
   "source": [
    "def evaluate_dpo_model(testset_path):\n",
    "    output_lens = []\n",
    "    with open(testset_path, \"r\") as fin:\n",
    "        for line in fin:\n",
    "            data = json.loads(line.strip())\n",
    "            if data[-1].get(\"role\", \"\") == \"bot\":\n",
    "                output_lens.append(len(data[-1].get(\"content\", \"\")))\n",
    "    return sum(output_lens) / len(output_lens), sorted(output_lens)[len(output_lens) // 2]"
   ]
  },
  {
   "cell_type": "markdown",
   "id": "0a3687fe",
   "metadata": {},
   "source": [
    "Construct the test set. We randomly sample 200 entries from the raw data and convert them to OpenAI API format as the test set."
   ]
  },
  {
   "cell_type": "code",
   "execution_count": 12,
   "id": "c3d68264",
   "metadata": {},
   "outputs": [],
   "source": [
    "def ernie_data_to_openai_api_format(data, keep_system: bool = True):\n",
    "    openai_data = []\n",
    "    if keep_system and data.get(\"system\", \"\"):\n",
    "        openai_data.append({\"role\": \"system\", \"content\": data.get(\"system\", \"\")})\n",
    "    if len(data[\"src\"]) == 1:\n",
    "        openai_data.append({\"role\": \"user\", \"content\": data[\"src\"][0]})\n",
    "    else:\n",
    "        for i in range(len(data[\"src\"]) - 1):\n",
    "            openai_data.append({\"role\": \"user\", \"content\": data[\"src\"][i]})\n",
    "            openai_data.append({\"role\": \"assistant\", \"content\": data[\"tgt\"][i]})\n",
    "        openai_data.append({\"role\": \"user\", \"content\": data[\"src\"][-1]})\n",
    "    return openai_data"
   ]
  },
  {
   "cell_type": "code",
   "execution_count": 13,
   "id": "00ab689b",
   "metadata": {},
   "outputs": [],
   "source": [
    "testset_path = \"../data/dpo_testset.jsonl\"\n",
    "random.seed(RANDOM_SEED)\n",
    "\n",
    "with open(ernie_data_path, \"r\") as fin:\n",
    "    data_list = [json.loads(line) for line in fin]\n",
    "    test_data = random.sample(data_list, 200)\n",
    "    # We noticed that some system prompts in the raw data require the model to deliberately output long text (e.g., 'Must generate a detailed and lengthy response'),\n",
    "    # which may affect the model's performance, so we do not retain the system prompt\n",
    "    test_data = [ernie_data_to_openai_api_format(data, keep_system=False) for data in test_data]\n",
    "\n",
    "with open(testset_path, \"w\", encoding=\"utf-8\") as fout:\n",
    "    for item in test_data:\n",
    "        fout.write(json.dumps(item, ensure_ascii=False) + \"\\n\")"
   ]
  },
  {
   "cell_type": "markdown",
   "id": "262dbe2a",
   "metadata": {},
   "source": [
    "Use the original model to infer the test set. Currently, the WebUI does not support inferring test sets, so we use the inference scripts from the ERNIEKit codebase for this operation.\n",
    "- **Script**: examples/inference/scripts/infer.sh\n",
    "- **Set key hyperparameters**:\n",
    "  - top_p=0.7\n",
    "  - temperature=0.7\n",
    "  - max_seq_len=128000 (ERNIE-4.5-0.3B supports dynamic 128K context length)\n",
    "  - max_dec_len=8192 (since this task focuses on the model's output length, avoid actively truncating the model's output)\n",
    "  - weight_quantize_algo: Remove this line if quantization was not used during training\n",
    "\n",
    "> Inference process omitted"
   ]
  },
  {
   "cell_type": "markdown",
   "id": "a6c3137d",
   "metadata": {},
   "source": [
    "Calculate evaluation metrics."
   ]
  },
  {
   "cell_type": "code",
   "execution_count": null,
   "id": "5558bb29",
   "metadata": {},
   "outputs": [],
   "source": [
    "# Get inference results\n",
    "dpo_infer_path = \"../data/infer/dpo_03b_exp0.jsonl\"\n",
    "raw_model_output_len_mean, raw_model_output_len_median = evaluate_dpo_model(dpo_infer_path)\n",
    "print(\"Original Model\")\n",
    "print(f\"Output Length Mean: {raw_model_output_len_mean:.1f}, Median: {raw_model_output_len_median}\")"
   ]
  },
  {
   "cell_type": "markdown",
   "id": "5a67ae5d",
   "metadata": {},
   "source": [
    "### 3.4 Making Training Set\n",
    "How to construct it most effectively? Generally, the `rejected` in the training set is the actual output of the model to be optimized, while `chosen` is the optimized result based on this output. Here, we directly use the `rejected` and `chosen` from the open-source dataset. It’s not hard to think of two basic approaches to constructing the training set: one is where `rejected` is close to the output length of the original model on the test set and `rejected` is significantly longer than `chosen`; the other does not consider the output length of the original model on the test set, as long as `rejected` is significantly longer than `chosen`."
   ]
  },
  {
   "cell_type": "code",
   "execution_count": null,
   "id": "effcd235",
   "metadata": {},
   "outputs": [],
   "source": [
    "# Training Set 1: rejected length close to the original model\n",
    "with open(ernie_data_path, \"r\") as fin:\n",
    "    data_list = [json.loads(line) for line in fin]\n",
    "    trainset_1 = []\n",
    "    for data in data_list[201:]:\n",
    "        chosen = data[\"response\"][0]\n",
    "        rejected = data[\"response\"][1]\n",
    "        # Use the mean as a reference, allowing a certain range of deviation\n",
    "        if (\n",
    "            abs(len(rejected) - raw_model_output_len_mean) < raw_model_output_len_mean * 0.4\n",
    "            and len(rejected) > len(chosen) * 1.2\n",
    "        ):\n",
    "            trainset_1.append(data)\n",
    "\n",
    "print(f\"Training Set 1 sample size: {len(trainset_1)}\")\n",
    "print(\n",
    "    f\"Average length of rejected in Training Set 1: {sum(len(d['response'][1]) for d in trainset_1) / len(trainset_1):.1f}\"\n",
    ")"
   ]
  },
  {
   "cell_type": "code",
   "execution_count": 37,
   "id": "cc5888a0",
   "metadata": {},
   "outputs": [],
   "source": [
    "# Training Set 2: rejected significantly longer than chosen\n",
    "with open(ernie_data_path, \"r\") as fin:\n",
    "    data_list = [json.loads(line) for line in fin]\n",
    "    trainset_2 = []\n",
    "    for data in data_list[201:]:\n",
    "        chosen = data[\"response\"][0]\n",
    "        rejected = data[\"response\"][1]\n",
    "        if len(rejected) > len(chosen) * 1.2:\n",
    "            trainset_2.append(data)\n",
    "\n",
    "print(f\"Training Set 2 sample size: {len(trainset_2)}\")\n",
    "print(\n",
    "    f\"Average length of rejected in Training Set 2: {sum(len(d['response'][1]) for d in trainset_2) / len(trainset_2):.1f}\"\n",
    ")"
   ]
  },
  {
   "cell_type": "markdown",
   "id": "64b74cba",
   "metadata": {},
   "source": [
    "Control variables to ensure the sample sizes of the two training sets are the same."
   ]
  },
  {
   "cell_type": "code",
   "execution_count": 38,
   "id": "cac5b121",
   "metadata": {},
   "outputs": [],
   "source": [
    "random.seed(RANDOM_SEED)\n",
    "trainset_2 = random.sample(trainset_2, len(trainset_1))\n",
    "\n",
    "print(f\"Training Set 2 sample size: {len(trainset_2)}\")\n",
    "print(\n",
    "    f\"Average length of rejected in Training Set 2: {sum(len(d['response'][1]) for d in trainset_2) / len(trainset_2):.1f}\"\n",
    ")"
   ]
  },
  {
   "cell_type": "markdown",
   "id": "6e54f7d1",
   "metadata": {},
   "source": [
    "Export the training sets."
   ]
  },
  {
   "cell_type": "code",
   "execution_count": 39,
   "id": "4772b226",
   "metadata": {},
   "outputs": [],
   "source": [
    "trainset_1_path = \"../data/dpo_trainset_exp1.jsonl\"\n",
    "trainset_2_path = \"../data/dpo_trainset_exp2.jsonl\"\n",
    "\n",
    "# We noticed that some system prompts in the raw data require the model to deliberately output long text (e.g., 'Must generate a detailed and lengthy response'),\n",
    "# which may affect the model's performance, so we do not retain the system prompt\n",
    "with open(trainset_1_path, \"w\") as fout:\n",
    "    for data in trainset_1:\n",
    "        del data[\"system\"]\n",
    "        fout.write(json.dumps(data, ensure_ascii=False) + \"\\n\")\n",
    "\n",
    "with open(trainset_2_path, \"w\") as fout:\n",
    "    for data in trainset_2:\n",
    "        del data[\"system\"]\n",
    "        fout.write(json.dumps(data, ensure_ascii=False) + \"\\n\")"
   ]
  },
  {
   "cell_type": "markdown",
   "id": "0c0f1a02",
   "metadata": {},
   "source": [
    "# 4 Training\n",
    "### 4.1 Choosing the Base Model\n",
    "Considering the convenience of demonstration and the complexity of the task, we choose the smaller-sized ERNIE-4.5-0.3B model.\n",
    "\n",
    "### 4.2 Designing Training Parameters\n",
    "Designing training parameters relies heavily on experience.\n",
    "\n",
    "### 4.3 Training with WebUI\n",
    "1. Start the WebUI in the root directory of the ERNIEKit project: `erniekit webui`  \n",
    "2. Configure the model path and export directory  \n",
    "\n",
    "![dpo_set_path](https://raw.githubusercontent.com/wiki/Minghao2812/ERNIE/img/dpo_set_path_en.png)\n",
    "\n",
    "3. Set full-parameter/LoRA fine-tuning, numerical precision, etc.  \n",
    "\n",
    "![dpo_lora_set](https://raw.githubusercontent.com/wiki/Minghao2812/ERNIE/img/dpo_set_lora_en.png)\n",
    "\n",
    "4. Set the fine-tuning mode (SFT/DPO) and configure training parameters  \n",
    "\n",
    "![dpo_train_params](https://raw.githubusercontent.com/wiki/Minghao2812/ERNIE/img/dpo_train_params_en.png)\n",
    "\n",
    "5. Configure the training set and validation set\n",
    "\n",
    "<div style=\"display: flex; justify-content: space-around;\">\n",
    "    <img src=\"https://raw.githubusercontent.com/wiki/Minghao2812/ERNIE/img/dpo_trainset_en.png\" alt=\"dpo_trainset\" style=\"width: 49%;\">\n",
    "    <img src=\"https://raw.githubusercontent.com/wiki/Minghao2812/ERNIE/img/dpo_validset_en.png\" alt=\"dpo_validset\" style=\"width: 49%;\">\n",
    "</div>\n",
    "\n",
    "### 4.4 Viewing Training Logs and Loss Curves\n",
    "Training log path: `${your_model_dir}/paddle_dist_log/workerlog.0`. You can also run the following command to view the loss curve:\n",
    "```bash\n",
    "visualdl --logdir ${your_model_dir}/vdl_log --host 0.0.0.0\n",
    "```\n",
    "\n",
    "### 4.5 Merging Model Weights (Only Required for LoRA Fine-Tuning)\n",
    "You can conveniently merge model weights in the 'Evaluation' mode of the WebUI   \n",
    "\n",
    "![dpo_merge_lora](https://raw.githubusercontent.com/wiki/Minghao2812/ERNIE/img/dpo_merge_lora_en.png)"
   ]
  },
  {
   "cell_type": "markdown",
   "id": "62dcd43b",
   "metadata": {},
   "source": [
    "# 5 Performance Evaluation"
   ]
  },
  {
   "cell_type": "markdown",
   "id": "6d53d017",
   "metadata": {},
   "source": [
    "### 5.1 Calculating Evaluation Metrics\n",
    "The evaluation criteria have been defined above, and the method for calculating evaluation metrics has been demonstrated. We will not repeat the process here, but instead present the training configurations and evaluation metrics of several experiments for readers' reference.\n",
    "\n",
    "| Experiment No. | Training Set | Training Parameters | ↓ Output Length Mean | ↓ Output Length Median |\n",
    "| --- | --- | --- | --- | --- |\n",
    "| 0 | - | - | 888.8 | 515 |\n",
    "| 1 | • len(rejected) close to original model<br>• len(rejected) >= 1.2 len(chosen)<br>• 614Q | max_steps=614<br>warmup_steps=50<br>global_batch_size=1 | 879.5 | 442 |\n",
    "| 2 | • len(rejected) >= 1.2 len(chosen)<br>• 614Q | max_steps=614<br>warmup_steps=50<br>global_batch_size=1 | 864.7 | 354 |"
   ]
  },
  {
   "cell_type": "markdown",
   "id": "a6639187",
   "metadata": {},
   "source": [
    "### 5.2 Analyzing Experimental Results\n",
    "It can be seen that under the same training parameters, Training Set 2 is more effective. This naturally leads to the question: if we include more training data and make the length difference between `rejected` and `chosen` more significant, would the model's performance improve further? We designed a third set of experiments, and the results are as follows:\n",
    "\n",
    "| Experiment No. | Training Set | Training Parameters | ↓ Output Length Mean | ↓ Output Length Median |\n",
    "| ---- | ---- | ---- | ---- | ---- |\n",
    "| 0 | - | - | 888.8 | 515 |\n",
    "| 1 | len(rejected) close to original model <br> len(rejected) >= 1.2 len(chosen) <br> 614Q | max_steps=614 <br> warmup_steps=50 <br> global_batch_size=1 | 879.5 | 442 |\n",
    "| 2 | len(rejected) >= 1.2 len(chosen) <br> 614Q | max_steps=614 <br> warmup_steps=50 <br> global_batch_size=1 | <ins>**864.7**</ins> | <ins>**354**</ins> |\n",
    "| 3 | len(rejected) >= 2 len(chosen) <br> 1804Q | max_steps=1804 <br> warmup_steps=50 <br> global_batch_size=1 | 1145.1 | 412 |\n",
    "\n",
    "Unfortunately, the model's performance worsened. We have the following hypotheses:  \n",
    "1. Insufficient warm-up. Based on general experience, setting warm-up to 10% of max_steps might be better.  \n",
    "2. Too few max_steps.  \n",
    "\n",
    "To address these two hypotheses, we designed a fourth set of experiments. The results are as follows:\n",
    "\n",
    "| Experiment No. | Training Set | Training Parameters | ↓ Output Length Mean | ↓ Output Length Median |\n",
    "| ---- | ---- | ---- | ---- | ---- |\n",
    "| 0 | - | - | 888.8 | 515 |\n",
    "| 1 | • len(rejected) close to original model <br> • len(rejected) >= 1.2 len(chosen) <br> • 614Q | max_steps=614 <br> warmup_steps=50 <br> global_batch_size=1 | 879.5 | 442 |\n",
    "| 2 | • len(rejected) >= 1.2 len(chosen) <br> • 614Q | max_steps=614 <br> warmup_steps=50 <br> global_batch_size=1 | 864.7 | 354 |\n",
    "| 3 | • len(rejected) >= 2 len(chosen) <br> • 1804Q | max_steps=1804 <br> warmup_steps=50 <br> global_batch_size=1 | 1145.1 | 412 |\n",
    "| 4 | • len(rejected) >= 2 len(chosen) <br> • 1804Q | max_steps=3608 <br> warmup_steps=360 <br> global_batch_size=1 | <ins>**628.1**</ins> | <ins>**331**</ins> |\n",
    "\n",
    "It can be seen that the fourth set of experiments achieved more desirable results!"
   ]
  },
  {
   "cell_type": "markdown",
   "id": "ed3926fe",
   "metadata": {},
   "source": [
    "### 5.3 Catastrophic Forgetting\n",
    "We attempted to test whether the model's performance on general tasks declined (exhibiting a 'forgetting phenomenon'). The good news is that 'forgetting' is not significant. For example:\n",
    "> Input: [{\"role\": \"user\", \"content\": \"Please remember, your name is Sponge\"}, {\"role\": \"assistant\", \"content\": \"Okay, I am Sponge\"}, {\"role\": \"user\", \"content\": \"Who are you?\"}]  \n",
    "\n",
    "> ERNIE-4.5-0.3B Original Model Output: I am Sponge, a super curious and fun guy! Is there anything you'd like to chat about?  \n",
    "> DPO Model Output: I am Sponge, a psychic warrior exploring the sponge world!"
   ]
  }
 ],
 "metadata": {
  "kernelspec": {
   "display_name": "ar",
   "language": "python",
   "name": "python3"
  },
  "language_info": {
   "codemirror_mode": {
    "name": "ipython",
    "version": 3
   },
   "file_extension": ".py",
   "mimetype": "text/x-python",
   "name": "python",
   "nbconvert_exporter": "python",
   "pygments_lexer": "ipython3",
   "version": "3.9.18"
  }
 },
 "nbformat": 4,
 "nbformat_minor": 5
}
