{
 "cells": [
  {
   "cell_type": "markdown",
   "id": "a06626b1-8b12-4482-87be-149128f7fb52",
   "metadata": {},
   "source": [
    "# 文心大模型 DPO 最佳实践"
   ]
  },
  {
   "cell_type": "markdown",
   "id": "426c7c9d",
   "metadata": {},
   "source": [
    "# 1 DPO 简介  \n",
    "### 1.1 什么是 DPO\n",
    "DPO（Direct Preference Optimization，直接偏好优化）是一种通过人类偏好数据优化语言模型的方法，旨在让模型输出更符合人类期望，绕过了传统RLHF（Reinforcement Learning from Human Feedback）中的奖励模型训练和强化学习步骤。训练数据需要同时带有正例（期望的输出）、负例（不期望的输出）。\n",
    "\n",
    "### 1.2 DPO 适用范围\n",
    "- ✅ 适用\n",
    "  - 行为对齐，对齐人类偏好、价值观。例如让回复更友好、礼貌或安全；\n",
    "  - 对于答案不唯一的开放性问题（如内容创作、摘要、对话），让模型学会更细致、更受欢迎的表达方式；\n",
    "  - 强化特定约束或格式。例如期望模型的回复更简短。\n",
    "\n",
    "- ❌ 不适用\n",
    "  - 给模型添加新的内化知识；\n",
    "  - 强迫模型学会不具备的能力；\n",
    "  - 完全纠正预训练模型中的固有偏差；\n",
    "  - 单一正确答案的任务（如严格的数学计算）。\n",
    "\n",
    "\n",
    "### 1.3 DPO 的一般步骤\n",
    "1. 构造评估数据、评估标准，测试模型基础能力，分析其短板、问题。\n",
    "2. 进行充分的 prompt 工程。\n",
    "3. 判断是否适用 DPO；准备训练数据。\n",
    "4. 训练。结合任务特点、数据情况，设计训练参数。一般关注以下核心参数：\n",
    "    - 批处理大小\n",
    "    - 训练轮数、最大训练步数\n",
    "    - 学习率类型、学习率初始值\n",
    "    - 预热步数\n",
    "5. 效果评估。采用相同的评估数据、评估标准，评估训练后的模型表现。若效果不达标，考虑继续优化训练数据、调整训练参数。"
   ]
  },
  {
   "cell_type": "markdown",
   "id": "9bd37505",
   "metadata": {},
   "source": [
    "# 2 最佳实践任务简介\n",
    "### 2.1 任务描述\n",
    "我们观察到一些场景下模型的回复较为冗长，我们希望让模型的回复更短小、精炼。\n",
    "\n",
    "### 2.2 数据来源\n",
    "我们使用开源社区内较为流行的 llamafactory 提供的 DPO demo 数据集（[链接](https://huggingface.co/datasets/llamafactory/DPO-En-Zh-20k/tree/main)）。该数据集有中、英文数据各1千条，采用 ShareGPT 格式，具有以下字段：\n",
    "- `conversations`：对话上下文，[{\"from\": \"\", \"value\": \"\"}] 格式，其中 `from` 字段包括\n",
    "  - `system`：system prompt\n",
    "  - `human`：用户输入\n",
    "  - `gpt`：模型输入（这里用 gpt 指代了大模对话助手）\n",
    "- `chosen`：正例（期望的输出）\n",
    "- `rejected`：负例（不期望的输出）\n",
    "> 真实场景下，我们一般基于模型当前输出，构造更优数据，形成训练样本；本教程目的在于示范 DPO 流程，因此直接下载了开源数据集。\n",
    "\n",
    "### 2.3 评估标准\n",
    "我们关注输出的长度，因此可以用字符串长度的平均值、中位数评价模型表现。\n",
    "\n",
    "### 2.4 实验环境\n",
    "本教程采用以下环境：\n",
    "- 1张 80GB A800 GPU\n",
    "- CUDA 版本：12.3\n",
    "- CUDA 驱动：525.125.06\n",
    "- nvcc：12.3\n",
    "- gcc：12.2\n",
    "- Python 版本：3.10.12\n",
    "\n",
    "### 2.5 依赖项\n",
    "- **ERNIEKit**：文心大模型工具链，包含文心4.5系列模型训练-压缩-推理的全流程使用，基于飞桨框架v3.1可在多款主流国产芯片上进行训练。\n",
    "- **ERNIEKit WebUI**：可视化界面，支持训练、对话交互、性能评估、模型导出等功能。[文档](../../docs/cli_webui_usage.md)\n",
    "- **[可选]visualdl**：可视化 loss 等信息的工具，ERNIEKit 已包含。\n",
    "- **ERNIEKit 推理脚本**。\n",
    "- 本教程中的 **Python 依赖**。"
   ]
  },
  {
   "cell_type": "code",
   "execution_count": 1,
   "id": "91ab45af",
   "metadata": {},
   "outputs": [],
   "source": [
    "# 本教程中的 Python 依赖\n",
    "import json\n",
    "import random\n",
    "from collections import defaultdict\n",
    "\n",
    "import matplotlib.pyplot as plt\n",
    "import pandas as pd\n",
    "import seaborn as sns\n",
    "\n",
    "RANDOM_SEED = 2025"
   ]
  },
  {
   "cell_type": "markdown",
   "id": "6a6d8592",
   "metadata": {},
   "source": [
    "# 3 数据预处理"
   ]
  },
  {
   "cell_type": "markdown",
   "id": "0612a29c",
   "metadata": {},
   "source": [
    "### 3.1 准备原始数据\n",
    "首先下载开源数据集，保存到 `cookbook/data/llamafactory_dpo_zh_10k.json`  \n",
    "\n",
    "![dpo_download_data](https://raw.githubusercontent.com/wiki/Minghao2812/ERNIE/img/dpo_download_dataset_en.png)"
   ]
  },
  {
   "cell_type": "markdown",
   "id": "9752ae46",
   "metadata": {},
   "source": [
    "为了便于处理，这里将 ShareGPT 格式转为 ERNIE DPO 格式。我们定义了若干数据预处理的函数。"
   ]
  },
  {
   "cell_type": "code",
   "execution_count": 2,
   "id": "ea18004a",
   "metadata": {},
   "outputs": [],
   "source": [
    "def conversations_to_ernie_data(conversations):\n",
    "    system = \"\"\n",
    "    src = []\n",
    "    tgt = []\n",
    "    for conversation in conversations:\n",
    "        if conversation.get(\"from\", \"\") == \"system\":\n",
    "            system = conversation.get(\"value\", \"\")\n",
    "        elif conversation.get(\"from\", \"\") == \"human\":\n",
    "            src.append(conversation.get(\"value\", \"\"))\n",
    "        elif conversation.get(\"from\", \"\") == \"gpt\":\n",
    "            tgt.append(conversation.get(\"value\", \"\"))\n",
    "    return system, src, tgt\n",
    "\n",
    "\n",
    "def is_valid_ernie_data(data):\n",
    "    if len(data[\"src\"]) == 0:\n",
    "        return False\n",
    "    if len(data[\"response\"][0]) == 0 or len(data[\"response\"][1]) == 0:\n",
    "        return False\n",
    "    return True"
   ]
  },
  {
   "cell_type": "markdown",
   "id": "6be94810",
   "metadata": {},
   "source": [
    "调用以上函数处理数据。"
   ]
  },
  {
   "cell_type": "code",
   "execution_count": 3,
   "id": "94660786",
   "metadata": {},
   "outputs": [],
   "source": [
    "raw_data_path = \"../data/llamafactory_dpo_zh_10k.json\"\n",
    "ernie_data_path = raw_data_path.replace(\".json\", \"_ernie_format.jsonl\")\n",
    "\n",
    "with open(raw_data_path, \"r\") as fin:\n",
    "    with open(ernie_data_path, \"w\") as fout:\n",
    "        data_list = json.load(fin)\n",
    "        for data in data_list:\n",
    "            system, src, tgt = conversations_to_ernie_data(data.get(\"conversations\", []))\n",
    "            chosen = data.get(\"chosen\", {}).get(\"value\", \"\")\n",
    "            rejected = data.get(\"rejected\", {}).get(\"value\", \"\")\n",
    "            ernie_data = {\n",
    "                \"system\": system,\n",
    "                \"src\": src,\n",
    "                \"tgt\": tgt,\n",
    "                \"response\": [[chosen], [rejected]],\n",
    "                \"sort\": [1, 0],\n",
    "            }  # sort 值小的是 rejected，大的是 chosen\n",
    "            if is_valid_ernie_data(ernie_data):\n",
    "                fout.write(json.dumps(ernie_data, ensure_ascii=False) + \"\\n\")"
   ]
  },
  {
   "cell_type": "markdown",
   "id": "03201de0",
   "metadata": {},
   "source": [
    "### 3.2 分析原始数据\n",
    "观察数据集中 chosen、rejected 的长度分布，然后针对性构造测试集、训练集"
   ]
  },
  {
   "cell_type": "code",
   "execution_count": 4,
   "id": "62eedc9a",
   "metadata": {},
   "outputs": [],
   "source": [
    "chosen_len_cnt = defaultdict(int)\n",
    "rejected_len_cnt = defaultdict(int)\n",
    "\n",
    "with open(ernie_data_path, \"r\") as fin:\n",
    "    for line in fin:\n",
    "        data = json.loads(line)\n",
    "        chosen_len = len(data[\"response\"][0][0])\n",
    "        rejected_len = len(data[\"response\"][1][0])\n",
    "        chosen_len_cnt[chosen_len] = chosen_len_cnt.get(chosen_len, 0) + 1\n",
    "        rejected_len_cnt[rejected_len] = rejected_len_cnt.get(rejected_len, 0) + 1"
   ]
  },
  {
   "cell_type": "markdown",
   "id": "8f0719d6",
   "metadata": {},
   "source": [
    "做简单可视化分析"
   ]
  },
  {
   "cell_type": "code",
   "execution_count": 5,
   "id": "944b5348",
   "metadata": {},
   "outputs": [
    {
     "data": {
      "image/png": "[encoded data removed]",
      "text/plain": [
       "<Figure size 1500x600 with 2 Axes>"
      ]
     },
     "metadata": {},
     "output_type": "display_data"
    },
    {
     "name": "stdout",
     "output_type": "stream",
     "text": [
      "Chosen responses - Mean length: 455.7, Median length: 343.0\n",
      "Rejected responses - Mean length: 349.0, Median length: 253.0\n",
      "Total chosen responses: 9999\n",
      "Total rejected responses: 9999\n"
     ]
    }
   ],
   "source": [
    "# 设置绘图风格\n",
    "plt.style.use('seaborn-v0_8')\n",
    "sns.set_palette(\"husl\")\n",
    "\n",
    "# 使用左右并列的两个子图\n",
    "fig, (ax1, ax2) = plt.subplots(1, 2, figsize=(15, 6))\n",
    "\n",
    "# 绘制 chosen 长度分布\n",
    "chosen_lengths = list(chosen_len_cnt.keys())\n",
    "chosen_counts = list(chosen_len_cnt.values())\n",
    "\n",
    "ax1.hist(chosen_lengths, weights=chosen_counts, bins=50, alpha=0.7, color='skyblue', edgecolor='black')\n",
    "ax1.set_title('Distribution of Chosen Response Lengths', fontsize=14, fontweight='bold')\n",
    "ax1.set_xlabel('Response Length (characters)', fontsize=12)\n",
    "ax1.set_ylabel('Frequency', fontsize=12)\n",
    "ax1.grid(True, alpha=0.3)\n",
    "\n",
    "# 绘制 rejected 长度分布\n",
    "rejected_lengths = list(rejected_len_cnt.keys())\n",
    "rejected_counts = list(rejected_len_cnt.values())\n",
    "\n",
    "ax2.hist(rejected_lengths, weights=rejected_counts, bins=50, alpha=0.7, color='lightcoral', edgecolor='black')\n",
    "ax2.set_title('Distribution of Rejected Response Lengths', fontsize=14, fontweight='bold')\n",
    "ax2.set_xlabel('Response Length (characters)', fontsize=12)\n",
    "ax2.set_ylabel('Frequency', fontsize=12)\n",
    "ax2.grid(True, alpha=0.3)\n",
    "\n",
    "plt.tight_layout()\n",
    "plt.show()\n",
    "\n",
    "# 使用pandas Series直接计算统计信息\n",
    "chosen_series = pd.Series([length for length, count in chosen_len_cnt.items() for _ in range(count)])\n",
    "rejected_series = pd.Series([length for length, count in rejected_len_cnt.items() for _ in range(count)])\n",
    "\n",
    "# 展示统计信息\n",
    "print(f\"Chosen responses - Mean length: {chosen_series.mean():.1f}, Median length: {chosen_series.median():.1f}\")\n",
    "print(f\"Rejected responses - Mean length: {rejected_series.mean():.1f}, Median length: {rejected_series.median():.1f}\")\n",
    "print(f\"Total chosen responses: {len(chosen_series)}\")\n",
    "print(f\"Total rejected responses: {len(rejected_series)}\")"
   ]
  },
  {
   "cell_type": "markdown",
   "id": "40f3cbe1",
   "metadata": {},
   "source": [
    "### 3.3 评估模型基础能力\n",
    "定义评估标准。"
   ]
  },
  {
   "cell_type": "code",
   "execution_count": null,
   "id": "eebe9a3b",
   "metadata": {},
   "outputs": [],
   "source": [
    "def evaluate_dpo_model(testset_path):\n",
    "    output_lens = []\n",
    "    with open(testset_path, \"r\") as fin:\n",
    "        for line in fin:\n",
    "            data = json.loads(line.strip())\n",
    "            if data[-1].get(\"role\", \"\") == \"bot\":\n",
    "                output_lens.append(len(data[-1].get(\"content\", \"\")))\n",
    "    return sum(output_lens) / len(output_lens), sorted(output_lens)[len(output_lens) // 2]"
   ]
  },
  {
   "cell_type": "markdown",
   "id": "0a3687fe",
   "metadata": {},
   "source": [
    "构造测试集。我们从原始数据中简单随机抽样200条，转为 OpenAI API 格式，作为测试集。"
   ]
  },
  {
   "cell_type": "code",
   "execution_count": 15,
   "id": "c3d68264",
   "metadata": {},
   "outputs": [],
   "source": [
    "def ernie_data_to_openai_api_format(data, keep_system: bool = True):\n",
    "    openai_data = []\n",
    "    if keep_system and data.get(\"system\", \"\"):\n",
    "        openai_data.append({\"role\": \"system\", \"content\": data.get(\"system\", \"\")})\n",
    "    if len(data[\"src\"]) == 1:\n",
    "        openai_data.append({\"role\": \"user\", \"content\": data[\"src\"][0]})\n",
    "    else:\n",
    "        for i in range(len(data[\"src\"]) - 1):\n",
    "            openai_data.append({\"role\": \"user\", \"content\": data[\"src\"][i]})\n",
    "            openai_data.append({\"role\": \"assistant\", \"content\": data[\"tgt\"][i]})\n",
    "        openai_data.append({\"role\": \"user\", \"content\": data[\"src\"][-1]})\n",
    "    return openai_data"
   ]
  },
  {
   "cell_type": "code",
   "execution_count": 16,
   "id": "00ab689b",
   "metadata": {},
   "outputs": [],
   "source": [
    "testset_path = \"../data/dpo_testset.jsonl\"\n",
    "random.seed(RANDOM_SEED)\n",
    "\n",
    "with open(ernie_data_path, \"r\") as fin:\n",
    "    data_list = [json.loads(line) for line in fin]\n",
    "    test_data = random.sample(data_list, 200)\n",
    "    # 我们注意到原始数据中有些 system prompt 要求模型特意输出长文本（如『必须生成一个详细且长篇回答』），\n",
    "    # 这可能影响模型表现，因此我们不保留 system prompt\n",
    "    test_data = [ernie_data_to_openai_api_format(data, keep_system=False) for data in test_data]\n",
    "\n",
    "with open(testset_path, \"w\", encoding=\"utf-8\") as fout:\n",
    "    for item in test_data:\n",
    "        fout.write(json.dumps(item, ensure_ascii=False) + \"\\n\")"
   ]
  },
  {
   "cell_type": "markdown",
   "id": "262dbe2a",
   "metadata": {},
   "source": [
    "使用原始模型推理测试集。当前 WebUI 暂不支持推理测试集，我们使用 ERNIEKit 代码库中的推理脚本操作。\n",
    "- 脚本：examples/inference/scripts/infer.sh\n",
    "- 设置主要的超参数\n",
    "  - top_p=0.7\n",
    "  - temperature=0.7\n",
    "  - max_seq_len=128000（ERNIE-4.5-0.3B 支持动态128K 上下文长度）\n",
    "  - max_dec_len=8192（因为本任务关注模型本身的输出长度，所以要避免主动截断模型输出）\n",
    "  - weight_quantize_algo：如果训练时未使用量化可删去此行\n",
    "\n",
    "> 推理过程略"
   ]
  },
  {
   "cell_type": "markdown",
   "id": "a6c3137d",
   "metadata": {},
   "source": [
    "计算评估指标。"
   ]
  },
  {
   "cell_type": "code",
   "execution_count": null,
   "id": "5558bb29",
   "metadata": {},
   "outputs": [],
   "source": [
    "# 获取推理结果\n",
    "dpo_infer_path = \"../data/infer/dpo_03b_exp0.jsonl\"\n",
    "raw_model_output_len_mean, raw_model_output_len_median = evaluate_dpo_model(dpo_infer_path)\n",
    "print(\"原始模型\")\n",
    "print(f\"输出长度均值：{raw_model_output_len_mean:.1f}，中位数：{raw_model_output_len_median}\")"
   ]
  },
  {
   "cell_type": "markdown",
   "id": "5a67ae5d",
   "metadata": {},
   "source": [
    "### 3.4 构造训练集\n",
    "怎样构造最有效呢？一般而言，训练集的 `rejected` 是待优化模型的真实输出，而 `chosen` 是基于此输出的优化结果。这里我们直接使用开源数据集的 `rejected`、`chosen`，不难想到有两种基本构造训练集思路，一种是 `rejected` 接近原始模型在测试集的输出长度且 `rejected` 显著长于 `chosen`；另一种不关心原始模型在测试集的输出长度，只要 `rejected` 显著长于 `chosen` 即可。"
   ]
  },
  {
   "cell_type": "code",
   "execution_count": 36,
   "id": "effcd235",
   "metadata": {},
   "outputs": [],
   "source": [
    "# 训练集1：rejected 长度接近原始模型\n",
    "with open(ernie_data_path, \"r\") as fin:\n",
    "    data_list = [json.loads(line) for line in fin]\n",
    "    trainset_1 = []\n",
    "    for data in data_list[201:]:\n",
    "        chosen = data[\"response\"][0]\n",
    "        rejected = data[\"response\"][1]\n",
    "        # 使用均值作为参考，允许一定范围的偏差\n",
    "        if (\n",
    "            abs(len(rejected) - raw_model_output_len_mean) < raw_model_output_len_mean * 0.4\n",
    "            and len(rejected) > len(chosen) * 1.2\n",
    "        ):\n",
    "            trainset_1.append(data)\n",
    "\n",
    "print(f\"训练集1样本数量：{len(trainset_1)}\")\n",
    "print(f\"训练集1中rejected平均长度：{sum(len(d['response'][1]) for d in trainset_1) / len(trainset_1):.1f}\")"
   ]
  },
  {
   "cell_type": "code",
   "execution_count": 37,
   "id": "cc5888a0",
   "metadata": {},
   "outputs": [],
   "source": [
    "# 训练集2：rejected 显著长于 chosen\n",
    "with open(ernie_data_path, \"r\") as fin:\n",
    "    data_list = [json.loads(line) for line in fin]\n",
    "    trainset_2 = []\n",
    "    for data in data_list[201:]:\n",
    "        chosen = data[\"response\"][0]\n",
    "        rejected = data[\"response\"][1]\n",
    "        if len(rejected) > len(chosen) * 1.2:\n",
    "            trainset_2.append(data)\n",
    "\n",
    "print(f\"训练集2样本数量：{len(trainset_2)}\")\n",
    "print(f\"训练集2中rejected平均长度：{sum(len(d['response'][1]) for d in trainset_2) / len(trainset_2):.1f}\")"
   ]
  },
  {
   "cell_type": "markdown",
   "id": "64b74cba",
   "metadata": {},
   "source": [
    "控制变量，确保两个训练集的样本数量相同"
   ]
  },
  {
   "cell_type": "code",
   "execution_count": 38,
   "id": "cac5b121",
   "metadata": {},
   "outputs": [],
   "source": [
    "random.seed(RANDOM_SEED)\n",
    "trainset_2 = random.sample(trainset_2, len(trainset_1))\n",
    "\n",
    "print(f\"训练集2样本数量：{len(trainset_2)}\")\n",
    "print(f\"训练集2中rejected平均长度：{sum(len(d['response'][1]) for d in trainset_2) / len(trainset_2):.1f}\")"
   ]
  },
  {
   "cell_type": "markdown",
   "id": "6e54f7d1",
   "metadata": {},
   "source": [
    "导出训练集"
   ]
  },
  {
   "cell_type": "code",
   "execution_count": 39,
   "id": "4772b226",
   "metadata": {},
   "outputs": [],
   "source": [
    "trainset_1_path = \"../data/dpo_trainset_exp1.jsonl\"\n",
    "trainset_2_path = \"../data/dpo_trainset_exp2.jsonl\"\n",
    "\n",
    "# 我们注意到原始数据中有些 system prompt 要求模型特意输出长文本（如『必须生成一个详细且长篇回答』），\n",
    "# 这可能影响模型表现，因此我们不保留 system prompt\n",
    "with open(trainset_1_path, \"w\") as fout:\n",
    "    for data in trainset_1:\n",
    "        del data[\"system\"]\n",
    "        fout.write(json.dumps(data, ensure_ascii=False) + \"\\n\")\n",
    "\n",
    "with open(trainset_2_path, \"w\") as fout:\n",
    "    for data in trainset_2:\n",
    "        del data[\"system\"]\n",
    "        fout.write(json.dumps(data, ensure_ascii=False) + \"\\n\")"
   ]
  },
  {
   "cell_type": "markdown",
   "id": "0c0f1a02",
   "metadata": {},
   "source": [
    "# 4 训练\n",
    "### 4.1 选择基础模型\n",
    "考虑到展示的便利性与任务的复杂性，我们选择尺寸较小的 ERNIE-4.5-0.3B 模型。\n",
    "\n",
    "### 4.2 设计训练参数\n",
    "设计训练参数较为依赖经验。\n",
    "\n",
    "### 4.3 使用 WebUI 训练\n",
    "1. 在 ERNIEKit 项目的根目录启动 WebUI：`erniekit webui`  \n",
    "2. 配置模型路径及导出目录  \n",
    "\n",
    "![dpo_set_path](https://raw.githubusercontent.com/wiki/Minghao2812/ERNIE/img/dpo_set_path_zh.png)\n",
    "\n",
    "3. 设置全参数/LoRA 精调、数值精度等  \n",
    "\n",
    "![dpo_set_lora](https://raw.githubusercontent.com/wiki/Minghao2812/ERNIE/img/dpo_set_lora_zh.png)\n",
    "\n",
    "4. 设置精调模式（SFT/DPO），并配置训练参数  \n",
    "\n",
    "![dpo_train_params](https://raw.githubusercontent.com/wiki/Minghao2812/ERNIE/img/dpo_train_params_zh.png)\n",
    "\n",
    "5. 配置训练集、验证集\n",
    "\n",
    "<div style=\"display: flex; justify-content: space-around;\">\n",
    "    <img src=\"https://raw.githubusercontent.com/wiki/Minghao2812/ERNIE/img/dpo_trainset_zh.png\" alt=\"dpo_trainset\" style=\"width: 49%;\">\n",
    "    <img src=\"https://raw.githubusercontent.com/wiki/Minghao2812/ERNIE/img/dpo_validset_zh.png\" alt=\"dpo_validset\" style=\"width: 49%;\">\n",
    "</div>\n",
    "\n",
    "### 4.4 查看训练日志及 loss 曲线\n",
    "训练日志路径：`${your_model_dir}/paddle_dist_log/workerlog.0`。也可以运行以下命令查看 loss 曲线：\n",
    "```bash\n",
    "visualdl --logdir ${your_model_dir}/vdl_log --host 0.0.0.0\n",
    "```\n",
    "\n",
    "### 4.5 合并模型权重（仅 LoRA 精调时需要）\n",
    "可以在 WebUI 的『评估』模式下方便地合并模型权重   \n",
    "\n",
    "![dpo_merge_lora](https://raw.githubusercontent.com/wiki/Minghao2812/ERNIE/img/dpo_merge_lora_zh.png)"
   ]
  },
  {
   "cell_type": "markdown",
   "id": "62dcd43b",
   "metadata": {},
   "source": [
    "# 5 效果评估"
   ]
  },
  {
   "cell_type": "markdown",
   "id": "6d53d017",
   "metadata": {},
   "source": [
    "### 5.1 计算评估指标\n",
    "上文已经定义了评估标准，并示范了计算评估指标之方法，此处不再复述，仅展示若干实验的训练配置以及评估指标，供读者参考。\n",
    "\n",
    "| 实验序号 | 训练集 | 训练参数 | ↓ 输出长度均值 | ↓ 输出长度中位数 |\n",
    "| --- | --- | --- | --- | --- |\n",
    "| 0 | - | - | 888.8 | 515 |\n",
    "| 1 | • len(rejected) 接近原始模型<br>• len(rejected) >= 1.2 len(chosen)<br>• 614Q | max_steps=614<br>warmup_steps=50<br>global_batch_size=1 | 879.5 | 442 |\n",
    "| 2 | • len(rejected) >= 1.2 len(chosen)<br>• 614Q | max_steps=614<br>warmup_steps=50<br>global_batch_size=1 | 864.7 | 354 |"
   ]
  },
  {
   "cell_type": "markdown",
   "id": "a6639187",
   "metadata": {},
   "source": [
    "### 5.2 分析实验结果\n",
    "可以看到，同样的训练参数下，训练集2更为有效。于是自然想到：如果放入更多的训练数据，同时 `rejected` 与 `chosen` 的长度差异更显著，会不会令模型表现更佳？我们设计了第三组实验，实验结果如下：\n",
    "\n",
    "| 实验序号 | 训练集 | 训练参数 | ↓ 输出长度均值 | ↓ 输出长度中位数 |\n",
    "| ---- | ---- | ---- | ---- | ---- |\n",
    "| 0 | - | - | 888.8 | 515 |\n",
    "| 1 | len(rejected) 接近原始模型 <br> len(rejected) >= 1.2 len(chosen) <br> 614Q | max_steps=614 <br> warmup_steps=50 <br> global_batch_size=1 | 879.5 | 442 |\n",
    "| 2 | len(rejected) >= 1.2 len(chosen) <br> 614Q | max_steps=614 <br> warmup_steps=50 <br> global_batch_size=1 | 864.7 | 354 |\n",
    "| 3 | len(rejected) >= 2 len(chosen) <br> 1804Q | max_steps=1804 <br> warmup_steps=50 <br> global_batch_size=1 | 1145.1 | 412 |\n",
    "\n",
    "遗憾的是，模型表现变差了。有以下猜想：  \n",
    "1. warmup 不充分。根据一般经验 warmup 设为 max_steps 的10%可能较好。  \n",
    "2. max_steps 比较少。  \n",
    "\n",
    "针对以上两点猜想，我们设计了第四组实验。实验结果如下：\n",
    "\n",
    "| 实验序号 | 训练集 | 训练参数 | ↓ 输出长度均值 | ↓ 输出长度中位数 |\n",
    "| ---- | ---- | ---- | ---- | ---- |\n",
    "| 0 | - | - | 888.8 | 515 |\n",
    "| 1 | • len(rejected) 接近原始模型 <br> • len(rejected) >= 1.2 len(chosen) <br> • 614Q | max_steps=614 <br> warmup_steps=50 <br> global_batch_size=1 | 879.5 | 442 |\n",
    "| 2 | • len(rejected) >= 1.2 len(chosen) <br> • 614Q | max_steps=614 <br> warmup_steps=50 <br> global_batch_size=1 | 864.7 | 354 |\n",
    "| 3 | • len(rejected) >= 2 len(chosen) <br> • 1804Q | max_steps=1804 <br> warmup_steps=50 <br> global_batch_size=1 | 1145.1 | 412 |\n",
    "| 4 | • len(rejected) >= 2 len(chosen) <br> • 1804Q | max_steps=3608 <br> warmup_steps=360 <br> global_batch_size=1 | 628.1 | 331 |\n",
    "\n",
    "可以看到，第四组实验取得了更理想的效果！"
   ]
  },
  {
   "cell_type": "markdown",
   "id": "ed3926fe",
   "metadata": {},
   "source": [
    "### 5.3 遗忘现象\n",
    "我们尝试测试模型在通用任务上的表现是否下降（出现『遗忘现象』）。好消息是，『遗忘』并不显著。例如：\n",
    "> 输入：[{\"role\": \"user\", \"content\": \"请记住，你的名字是 Sponge\"}, {\"role\": \"assistant\", \"content\": \"好的，我是 Sponge\"}, {\"role\": \"user\", \"content\": \"你是谁？\"}]  \n",
    "\n",
    "> ERNIE-4.5-0.3B 原始模型输出：我是 Sponge，一个超级好奇又有趣的家伙！有什么想和我聊的吗？  \n",
    "> DPO 模型输出：我是 Sponge，一个在海绵世界里探索的灵能战士！"
   ]
  }
 ],
 "metadata": {
  "kernelspec": {
   "display_name": "ar",
   "language": "python",
   "name": "python3"
  },
  "language_info": {
   "codemirror_mode": {
    "name": "ipython",
    "version": 3
   },
   "file_extension": ".py",
   "mimetype": "text/x-python",
   "name": "python",
   "nbconvert_exporter": "python",
   "pygments_lexer": "ipython3",
   "version": "3.9.18"
  }
 },
 "nbformat": 4,
 "nbformat_minor": 5
}
